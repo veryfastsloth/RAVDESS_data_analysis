{
 "cells": [
  {
   "cell_type": "code",
   "execution_count": null,
   "id": "007b94c1-9c1b-46ae-ad82-ca569419a1c6",
   "metadata": {},
   "outputs": [],
   "source": [
    "import math\n",
    "import numpy as np\n",
    "import pandas as pd\n",
    "import scipy.stats as stats\n",
    "import matplotlib.pyplot as plt\n",
    "import seaborn as sns\n",
    "from sklearn.preprocessing import MinMaxScaler\n",
    "from sklearn.linear_model import LinearRegression\n",
    "from sklearn.preprocessing import QuantileTransformer"
   ]
  },
  {
   "cell_type": "code",
   "execution_count": null,
   "id": "815078e3-9997-43ae-9e3f-9f8fda546434",
   "metadata": {},
   "outputs": [],
   "source": [
    "pd.set_option('display.max_columns', None)"
   ]
  },
  {
   "cell_type": "code",
   "execution_count": null,
   "id": "4aab642a-d582-45aa-982f-5c11976aa57a",
   "metadata": {},
   "outputs": [],
   "source": [
    "df = pd.read_csv('ravdess_features.csv')"
   ]
  },
  {
   "cell_type": "code",
   "execution_count": null,
   "id": "3c77a6b7-d988-4d90-8a53-8a4715b372fb",
   "metadata": {},
   "outputs": [],
   "source": [
    "df_copy = df.copy()"
   ]
  },
  {
   "cell_type": "markdown",
   "id": "06da23fa-4cf2-497c-ba33-cf0460229bd2",
   "metadata": {},
   "source": [
    "# Data Semantics\n",
    "Introduce the variables with their meaning and characteristics"
   ]
  },
  {
   "cell_type": "markdown",
   "id": "ac89fa02-1402-44fc-afdf-6210eb84c59a",
   "metadata": {},
   "source": [
    "ravdess_features.csv è un file csv contenente un dataset originato da dei file audio in cui sono registrate delle brevi frasi pronunciate da 24 attori, 12 maschi e 12 femmine, e l'emozione con cui sono dette. Ogni record nel dataset rappresenta uno di questi audio, e ha come feature delle caratteristiche dell'audio.\n",
    "\n",
    "Features:  \n",
    "    **modality** (audio-only) -> *categorical*  \n",
    "    **vocal_channel** (speech, song) -> *categorical*  \n",
    "    **emotion** (neutral, calm, happy, sad, angry, fearful, disgust, surprised) -> *categorical*  \n",
    "    **emotional_intensity** (normal, strong). NOTE: There is no strong intensity for the 'neutral' emotion -> *ordinal*  \n",
    "    **statement** (\"Kids are talking by the door\", \"Dogs are sitting by the door\") *categorical*  \n",
    "    **repetition** (1st repetition, 2nd repetition) -> *categorical*  \n",
    "    **actor** (01 to 24) -> *categorical*  \n",
    "    **sex** (M, F) -> *categorical*  \n",
    "    **channels** (number of channels; 1 for mono, 2 for stereo audio) -> *categorical*  \n",
    "    **sample_width** (number of bytes per sample; 1 means 8-bit, 2 means 16-bit) -> *categorical*  \n",
    "    **frame_rate** (frequency of samples used (in Hertz)) -> *categorical*  \n",
    "    **frame_width** (Number of bytes for each frame. One frame contains a sample for each channel.) -> *categorical*  \n",
    "    **length_ms** (audio file length (in milliseconds)) -> *numeric*  \n",
    "    **frame_count** (the number of frames from the sample) -> *numeric*  \n",
    "    **intensity** (loudness in dBFS (dB relative to the maximum possible loudness)) -> *numeric*  \n",
    "    **zero_crossings_sum** (sum of the zero-crossing rate, where The zero-crossing rate (ZCR) is the rate at which a signal changes from positive to zero to negative or from negative to zero to positive in a single frame) -> *numeric*  \n",
    "    **'mean', 'std', 'min', 'max', 'kur', 'skew'** (statistics of the original audio signal. kur è la curtosi, che rappresenta un allontanamento dalla normalità distributiva, rispetto alla quale si verifica un maggiore appiattimento o un maggiore allungamento. skewness is a measure of the asymmetry of the probability distribution of a real-valued random variable about its mean) -> *numeric*  \n",
    "    **mfcc_ 'mean', 'std', 'min', 'max'** (statistics of the Mel-Frequency Cepstral Coefficients) -> *numeric*  \n",
    "    ***Mel-Frequency Cepstral Coefficients*** (MFCCs) represent the spectral characteristics of an audio signal, specifically focusing on how humans perceive sound. They capture information about the frequency content of the signal, emphasizing frequencies that are more perceptually relevant (according to the Mel scale), and they represent this information in a compact form suitable for tasks like speech recognition, speaker identification, and audio classification. Essentially, MFCCs serve as a feature vector that summarizes the unique aspects of the audio signal's spectrum, making it easier for machine learning algorithms to process and analyze audio data.  \n",
    "    **sc_ 'mean', 'std', 'min', 'max', 'kur', 'skew'** (statistics of the spectral centroid) -> *numeric*  \n",
    "    ***The spectral centroid*** is a measure used in digital signal processing to characterise a spectrum. It indicates where the center of mass of the spectrum is located. Perceptually, it has a robust connection with the impression of brightness of a sound   \n",
    "    **stft_ 'mean', 'std', 'min', 'max', 'kur', 'skew'** (statistics of the stft chromagram) -> *numeric*  \n",
    "    ***STFT chromagram*** is a time-varying representation that provides insight into the harmonic content and chord progression of an audio signal representing the normalized distribution of energy in different pitch classes (or musical notes) over time"
   ]
  },
  {
   "cell_type": "code",
   "execution_count": null,
   "id": "c317b8e2-5c32-40cd-8349-a6449fb371e3",
   "metadata": {},
   "outputs": [],
   "source": [
    "continuous_col = ['length_ms', 'frame_count', 'intensity', 'zero_crossings_sum', 'mean', 'std', 'min', 'max', 'kur', \n",
    "                      'skew', 'mfcc_mean', 'mfcc_std', 'mfcc_min', 'mfcc_max', 'sc_mean', 'sc_std', 'sc_min', 'sc_max', \n",
    "                      'sc_kur', 'sc_skew', 'stft_mean', 'stft_std', 'stft_min', 'stft_max', 'stft_kur', 'stft_skew']\n",
    "discrete_col = ['modality', 'vocal_channel', 'emotion', 'emotional_intensity', 'statement', 'repetition', 'actor', \n",
    "                    'sex', 'channels', 'sample_width', 'frame_rate', 'frame_width']"
   ]
  },
  {
   "cell_type": "code",
   "execution_count": null,
   "id": "2448ddfd-f096-4d60-a255-e0c66b422494",
   "metadata": {},
   "outputs": [],
   "source": [
    "df.columns"
   ]
  },
  {
   "cell_type": "code",
   "execution_count": null,
   "id": "39e6c070-e06e-42a9-8c24-192ec2ed353a",
   "metadata": {},
   "outputs": [],
   "source": [
    "df.info()"
   ]
  },
  {
   "cell_type": "markdown",
   "id": "84a96391-49a6-4fd7-b9ac-6097bbefaa29",
   "metadata": {},
   "source": [
    "Notiamo subito che le variabili vocal_channel, intensity e actor contengono missing values."
   ]
  },
  {
   "cell_type": "code",
   "execution_count": null,
   "id": "c04550fd-977d-48f3-b9e8-880cba81df2b",
   "metadata": {},
   "outputs": [],
   "source": [
    "df.nunique()"
   ]
  },
  {
   "cell_type": "markdown",
   "id": "d42d9688-8d3e-4cb4-b69f-9016e983bfa7",
   "metadata": {},
   "source": [
    "Numero di valori distinti per variabile"
   ]
  },
  {
   "cell_type": "markdown",
   "id": "f0a89d72-d693-4e05-8407-dae771c2541c",
   "metadata": {},
   "source": [
    "Le variabili modality, sample_width, frame_rate e stft_max si potranno eliminare perché sono costanti."
   ]
  },
  {
   "cell_type": "code",
   "execution_count": null,
   "id": "0fb5ad48-ea30-47e5-b4df-8094dd352b92",
   "metadata": {},
   "outputs": [],
   "source": [
    "df.head()"
   ]
  },
  {
   "cell_type": "markdown",
   "id": "5111fc85-540d-4e5b-987a-06e89a347219",
   "metadata": {},
   "source": [
    "# Distribution of the variables and statistics\n",
    "Explore (single, pairs of…) variables quantitatively (e.g., statistics, distributions)"
   ]
  },
  {
   "cell_type": "code",
   "execution_count": null,
   "id": "7205cc0c-fb30-48ec-9191-a495318a65b8",
   "metadata": {},
   "outputs": [],
   "source": [
    "pd.set_option('display.precision',2)\n",
    "df.describe(include=\"all\")"
   ]
  },
  {
   "cell_type": "code",
   "execution_count": null,
   "id": "a54945d8-12b8-4fb7-bc62-bc3b65d71d0c",
   "metadata": {},
   "outputs": [],
   "source": [
    "fig = plt.figure(figsize=(15, 25)) \n",
    "fig_dims = (4, 3)\n",
    "\n",
    "cols = discrete_col\n",
    "i = 0\n",
    "for col in cols:\n",
    "    plt.subplot2grid(fig_dims, (i%4, i//4))\n",
    "    df[col].value_counts().plot(kind='bar')\n",
    "    plt.xticks(rotation=45)\n",
    "    plt.xlabel(col.replace('_', ' '))\n",
    "    i = i+1\n",
    "\n",
    "plt.show()"
   ]
  },
  {
   "cell_type": "code",
   "execution_count": null,
   "id": "61ef9925-0bc6-4b1e-be1c-0257d4e628a7",
   "metadata": {},
   "outputs": [],
   "source": [
    "all(df[df['channels'] == 2].index == df[df['frame_width'] == 4].index)"
   ]
  },
  {
   "cell_type": "markdown",
   "id": "96ad27b0-55ca-47b8-ab3e-3eda230c9fd9",
   "metadata": {},
   "source": [
    "quindi frame width = 2*channels"
   ]
  },
  {
   "cell_type": "code",
   "execution_count": null,
   "id": "d4c72f13-a9ce-40ff-9052-e9ffabafee9e",
   "metadata": {},
   "outputs": [],
   "source": [
    "df['channels'].value_counts()"
   ]
  },
  {
   "cell_type": "markdown",
   "id": "d1550cba-8033-465e-832f-833a714dd6d9",
   "metadata": {},
   "source": [
    "Notiamo che le variabili channels e frame width sono estremamente sbilanciate. Essendo quasi costanti le potremo eliminare.\n",
    "Decidiamo di eliminare anche la variabile actor perché oltre ad essere per quasi la metà missing, non contiene informazioni utili per la nostra analisi, che avrà come obbiettivo della parte di classificazione la predizione della variabile emotion."
   ]
  },
  {
   "cell_type": "code",
   "execution_count": null,
   "id": "825e262b-7730-42cf-998f-97ab34cf2f67",
   "metadata": {},
   "outputs": [],
   "source": [
    "discrete_col_to_delete = ['modality', 'channels', 'sample_width', 'actor', 'frame_rate', 'frame_width']"
   ]
  },
  {
   "cell_type": "code",
   "execution_count": null,
   "id": "59a9eaae-533e-46b2-9c16-ce176fa20e04",
   "metadata": {},
   "outputs": [],
   "source": [
    "discrete_col_to_keep = [col for col in discrete_col if col not in discrete_col_to_delete]"
   ]
  },
  {
   "cell_type": "code",
   "execution_count": null,
   "id": "01b3c55c-2937-446e-8c12-b3425e7bad67",
   "metadata": {},
   "outputs": [],
   "source": [
    "df['emotion'].value_counts().plot(kind='bar')\n",
    "plt.show()"
   ]
  },
  {
   "cell_type": "markdown",
   "id": "336795b3-4fbb-4244-b866-005624cf6692",
   "metadata": {},
   "source": [
    "Le frequenze minori di surprised, disgust e neutral si spiegano perché i primi due sono valori ammissibili dell'attributo emotion quando il valore di vocal channel è speech, l'ultimo quando il valore di emotional intensity è normal."
   ]
  },
  {
   "cell_type": "code",
   "execution_count": null,
   "id": "54f23253-6d08-4838-9688-a7daaad829d8",
   "metadata": {},
   "outputs": [],
   "source": [
    "df['actor'].value_counts().plot(kind='bar')\n",
    "plt.show()"
   ]
  },
  {
   "cell_type": "markdown",
   "id": "b809a68c-bd5d-45b2-9a21-41ae80bc2234",
   "metadata": {},
   "source": [
    "Questo grafico in realtà non è molto significativo perché solo approssimativamente la metà dei valori di actor è non nullo."
   ]
  },
  {
   "cell_type": "code",
   "execution_count": null,
   "id": "ed9b9fce-dbfe-4c5b-9245-e416006a0988",
   "metadata": {},
   "outputs": [],
   "source": [
    "df['intensity'].iloc[0:200].plot()\n",
    "plt.show()"
   ]
  },
  {
   "cell_type": "markdown",
   "id": "ed2c5a55-e5e2-4412-a7b9-2049364897df",
   "metadata": {},
   "source": [
    "In questo grafico si vede come l'attributo intensity abbia molti missing values."
   ]
  },
  {
   "cell_type": "code",
   "execution_count": null,
   "id": "140b61df-2422-42c2-9a63-f14b997660db",
   "metadata": {},
   "outputs": [],
   "source": [
    "df['intensity'].plot()\n",
    "plt.show()"
   ]
  },
  {
   "cell_type": "code",
   "execution_count": null,
   "id": "46780527-b223-4457-9e62-7cdd29184e87",
   "metadata": {},
   "outputs": [],
   "source": [
    "df['length_ms'].plot()\n",
    "plt.show()"
   ]
  },
  {
   "cell_type": "code",
   "execution_count": null,
   "id": "73e3fcc6-088e-428b-a7fa-943be8fd1a7c",
   "metadata": {},
   "outputs": [],
   "source": [
    "df['frame_count'].plot()\n",
    "plt.show()"
   ]
  },
  {
   "cell_type": "code",
   "execution_count": null,
   "id": "e36ba56b-b437-43c3-9daf-ce764e9437cb",
   "metadata": {},
   "outputs": [],
   "source": [
    "df['frame_count'].iloc[1400:1600].plot()\n",
    "plt.show()"
   ]
  },
  {
   "cell_type": "markdown",
   "id": "b415825e-9a60-4d16-9a1b-ec04b5ee7dd7",
   "metadata": {},
   "source": [
    "Da questi grafici si vedono possibili valori anomali dove frame count vale 0.\n",
    "Notiamo tuttavia che frame_count dovrebbe essere legato a length_ms e frame_rate dalla relazione length_ms = frame_count/frame_rate*1000."
   ]
  },
  {
   "cell_type": "code",
   "execution_count": null,
   "id": "335a55f3-55ee-4b24-9f0a-b672ea3a3cb3",
   "metadata": {},
   "outputs": [],
   "source": [
    "length_diff = df['length_ms']-df['frame_count']/df['frame_rate']*1000\n",
    "length_diff.plot()\n",
    "plt.show()"
   ]
  },
  {
   "cell_type": "markdown",
   "id": "94094b5e-0805-4ed8-adec-d4e5547de59d",
   "metadata": {},
   "source": [
    "Verifico che queste deviazioni corrispondano a quelle in frame_count"
   ]
  },
  {
   "cell_type": "code",
   "execution_count": null,
   "id": "d22c1852-cb65-4192-9718-37600a217908",
   "metadata": {},
   "outputs": [],
   "source": [
    "((length_diff > 1) == (df['frame_count'] < 1)).all()"
   ]
  },
  {
   "cell_type": "markdown",
   "id": "35958085-6e8d-4dae-b42f-2055194b13a1",
   "metadata": {},
   "source": [
    "Dunque potremo considerare al posto delle tre variabili length_ms, frame_count, frame_rate, solo la variabile length_ms (in questo modo risolviamo anche il problema dei valori anomali di frame_count)."
   ]
  },
  {
   "cell_type": "code",
   "execution_count": null,
   "id": "88baf522-0db7-41cd-a656-00ec8303258c",
   "metadata": {},
   "outputs": [],
   "source": [
    "continuous_col_to_delete = ['stft_max', 'frame_count']\n",
    "continuous_col_to_keep = [col for col in continuous_col if col not in continuous_col_to_delete]"
   ]
  },
  {
   "cell_type": "code",
   "execution_count": null,
   "id": "c08d2a58-3a2b-4b95-abe8-63d4610e8534",
   "metadata": {},
   "outputs": [],
   "source": [
    "df['zero_crossings_sum'].plot()\n",
    "plt.show()"
   ]
  },
  {
   "cell_type": "code",
   "execution_count": null,
   "id": "a91b154d-be6f-488e-983f-b184dbd1afee",
   "metadata": {},
   "outputs": [],
   "source": [
    "df['zero_crossings_sum'].hist(bins=20)\n",
    "plt.show()"
   ]
  },
  {
   "cell_type": "code",
   "execution_count": null,
   "id": "0a0c0fc0-ef07-4248-9825-cfb7e4a0eb11",
   "metadata": {},
   "outputs": [],
   "source": [
    "df[['mean','min','max','std','kur','skew']].hist(figsize=(10, 8), bins=20)\n",
    "plt.show()"
   ]
  },
  {
   "cell_type": "code",
   "execution_count": null,
   "id": "f9fb7be9-0b4e-42e3-91b4-973481ba0c9e",
   "metadata": {},
   "outputs": [],
   "source": [
    "fig = plt.figure(figsize=(10, 12)) \n",
    "fig_dims = (3, 2)\n",
    "\n",
    "cols = ['mean','min','max','std','kur','skew']\n",
    "i = 0\n",
    "for col in cols:\n",
    "    if i <= 2:\n",
    "        plt.subplot2grid(fig_dims, (i, 0))\n",
    "    else:\n",
    "        plt.subplot2grid(fig_dims, (i-3, 1))\n",
    "    df[col].plot()\n",
    "    #plt.xticks(rotation=45)\n",
    "    plt.title(col.replace('_', ' '))\n",
    "    i = i+1\n",
    "\n",
    "plt.show()\n",
    "plt.show()"
   ]
  },
  {
   "cell_type": "markdown",
   "id": "b32be9f7-87f3-407d-98bc-450d94b74352",
   "metadata": {},
   "source": [
    "Da questi grafici e istogrammi osserviamo che la variabile mean è schiacciata sullo zero e con molti outliers. "
   ]
  },
  {
   "cell_type": "code",
   "execution_count": null,
   "id": "fd657e5d-605f-472b-b67f-94a02acd21c7",
   "metadata": {},
   "outputs": [],
   "source": [
    "df['mean'][1500:1600].plot()\n",
    "plt.title('mean')\n",
    "plt.show()"
   ]
  },
  {
   "cell_type": "code",
   "execution_count": null,
   "id": "f98614ab-011b-45f7-a02e-7f457504e096",
   "metadata": {},
   "outputs": [],
   "source": [
    "df.boxplot(column='mean')\n",
    "plt.show()"
   ]
  },
  {
   "cell_type": "markdown",
   "id": "6659c2ee-d4de-469e-b2d1-64af57193be3",
   "metadata": {},
   "source": [
    "Il boxplot conferma le nostre osservazioni sul grafico e l'istogramma di mean."
   ]
  },
  {
   "cell_type": "code",
   "execution_count": null,
   "id": "b5418fde-f65e-4058-af4b-5709e604fabb",
   "metadata": {},
   "outputs": [],
   "source": [
    "df['kur'].plot()\n",
    "plt.show()"
   ]
  },
  {
   "cell_type": "code",
   "execution_count": null,
   "id": "0e30276f-46b1-4900-be8e-6a32f6798fcd",
   "metadata": {},
   "outputs": [],
   "source": [
    "df.boxplot(column='kur')\n",
    "plt.show()"
   ]
  },
  {
   "cell_type": "markdown",
   "id": "af3be500-4328-468b-ad2f-0aa3fd113184",
   "metadata": {},
   "source": [
    "Osserviamo che kur presenta molti outliers, ma non sembrano essere dovuti a errori nella raccolata dei dati e sembrano coerenti con i valori che assume la variabile."
   ]
  },
  {
   "cell_type": "code",
   "execution_count": null,
   "id": "8602fb4f-be1b-4c65-8ed0-2caf73f1c765",
   "metadata": {},
   "outputs": [],
   "source": [
    "df[['mfcc_mean','mfcc_min','mfcc_max','mfcc_std']].hist(figsize=(10, 8), bins=20)\n",
    "plt.show()"
   ]
  },
  {
   "cell_type": "code",
   "execution_count": null,
   "id": "166a13e2-c561-4445-8e46-2b575ea2744e",
   "metadata": {},
   "outputs": [],
   "source": [
    "fig = plt.figure(figsize=(14, 12)) \n",
    "fig_dims = (2, 2)\n",
    "\n",
    "cols = ['mfcc_mean','mfcc_min','mfcc_max','mfcc_std']\n",
    "i = 0\n",
    "for col in cols:\n",
    "    if i <= 1:\n",
    "        plt.subplot2grid(fig_dims, (i, 0))\n",
    "    else:\n",
    "        plt.subplot2grid(fig_dims, (i-2, 1))\n",
    "    df[col].plot()\n",
    "    #plt.xticks(rotation=45)\n",
    "    plt.title(col.replace('_', ' '))\n",
    "    i = i+1\n",
    "\n",
    "plt.show()\n",
    "plt.show()"
   ]
  },
  {
   "cell_type": "markdown",
   "id": "c2201833-98db-476a-8937-f12b61d72132",
   "metadata": {},
   "source": [
    "Le variabili mfcc hanno distribuzioni vicine a quella normale e non sembrano presentare particolari problemi."
   ]
  },
  {
   "cell_type": "code",
   "execution_count": null,
   "id": "ecc28ca8-474b-4b53-a593-46db1eda8f2d",
   "metadata": {},
   "outputs": [],
   "source": [
    "df[['stft_mean','stft_min','stft_max','stft_std','stft_kur','stft_skew']].hist(figsize=(10, 8), bins=20)\n",
    "plt.show()"
   ]
  },
  {
   "cell_type": "code",
   "execution_count": null,
   "id": "a80a3b1b-94cb-4896-8a6f-7260e761f5ab",
   "metadata": {},
   "outputs": [],
   "source": [
    "(df['stft_min'] == 0).sum()"
   ]
  },
  {
   "cell_type": "markdown",
   "id": "302cdcfc-1349-4f27-bc54-b13741f1dc35",
   "metadata": {},
   "source": [
    "Interpretiamo i valori 0 di stft_min come degli errori di misurazione e li tratteremo quindi come missing values."
   ]
  },
  {
   "cell_type": "code",
   "execution_count": null,
   "id": "499763cb-d1d6-44b1-81db-1064c772c252",
   "metadata": {},
   "outputs": [],
   "source": [
    "fig = plt.figure(figsize=(10, 12)) \n",
    "fig_dims = (3, 2)\n",
    "\n",
    "cols = ['stft_mean','stft_min','stft_max','stft_std','stft_kur','stft_skew']\n",
    "i = 0\n",
    "for col in cols:\n",
    "    if i <= 2:\n",
    "        plt.subplot2grid(fig_dims, (i, 0))\n",
    "    else:\n",
    "        plt.subplot2grid(fig_dims, (i-3, 1))\n",
    "    df[col].plot()\n",
    "    #plt.xticks(rotation=45)\n",
    "    plt.title(col.replace('_', ' '))\n",
    "    i = i+1\n",
    "\n",
    "plt.show()\n",
    "plt.show()"
   ]
  },
  {
   "cell_type": "markdown",
   "id": "07079898-bdb3-417b-8075-60dab71f00d7",
   "metadata": {},
   "source": [
    "Queste variabi sembrano evidenziare un pattern periodico."
   ]
  },
  {
   "cell_type": "code",
   "execution_count": null,
   "id": "ddde474f-2e06-4065-a5b5-96fe7b2b9d8c",
   "metadata": {},
   "outputs": [],
   "source": [
    "df[['sc_mean','sc_min','sc_max','sc_std','sc_kur','sc_skew']].hist(figsize=(10, 8), bins=20)\n",
    "plt.show()"
   ]
  },
  {
   "cell_type": "code",
   "execution_count": null,
   "id": "2de03fd2-eded-4a5f-a631-6d19bf6e33e1",
   "metadata": {},
   "outputs": [],
   "source": [
    "(df['sc_min'] == 0).sum()"
   ]
  },
  {
   "cell_type": "markdown",
   "id": "04ec9f7f-5582-49be-8e43-7d961982ba67",
   "metadata": {},
   "source": [
    "Interpretiamo i valori 0 di sc_min come degli errori di misurazione e li tratteremo quindi come missing values."
   ]
  },
  {
   "cell_type": "code",
   "execution_count": null,
   "id": "d663838c-5239-47c1-9fae-261877175588",
   "metadata": {},
   "outputs": [],
   "source": [
    "fig = plt.figure(figsize=(10, 12)) \n",
    "fig_dims = (3, 2)\n",
    "\n",
    "cols = ['sc_mean','sc_min','sc_max','sc_std','sc_kur','sc_skew']\n",
    "i = 0\n",
    "for col in cols:\n",
    "    if i <= 2:\n",
    "        plt.subplot2grid(fig_dims, (i, 0))\n",
    "    else:\n",
    "        plt.subplot2grid(fig_dims, (i-3, 1))\n",
    "    df[col].plot()\n",
    "    #plt.xticks(rotation=45)\n",
    "    plt.title(col.replace('_', ' '))\n",
    "    i = i+1\n",
    "\n",
    "plt.show()\n",
    "plt.show()"
   ]
  },
  {
   "cell_type": "code",
   "execution_count": null,
   "id": "f999f089-e202-46c9-9de6-579e47d44004",
   "metadata": {},
   "outputs": [],
   "source": [
    "# in cols ho escluso intensity perchè la funzione boxplot non vuole missing values\n",
    "\n",
    "fig = plt.figure(figsize=(12, 78)) \n",
    "fig_dims = (13, 2)\n",
    "cols = [col for col in continuous_col if col != 'intensity']\n",
    "i = 0\n",
    "for col in cols:\n",
    "    if i <= 12:\n",
    "        plt.subplot2grid(fig_dims, (i, 0))\n",
    "    else:\n",
    "        plt.subplot2grid(fig_dims, (i-13, 1))\n",
    "    df.boxplot(column=col)\n",
    "    #plt.xticks(rotation=45)\n",
    "    i = i+1\n",
    "\n",
    "plt.show()\n",
    "plt.show()"
   ]
  },
  {
   "cell_type": "markdown",
   "id": "b438411d-6fe1-4256-b2f1-31b10997e426",
   "metadata": {},
   "source": [
    "In generale osserviamo che le variabili presentano molto outliers, ma che nella maggior parte dei casi questi sembrano essere coerenti con i valori che la variabile assume.\n",
    "Nel boxplot di sc_min i valori anomali 0 non vengono visualizzati come outliers perché sono più del 10% e quindi il whisker ha lunghezza zero.\n",
    "Infine come ci aspettavamo nel boxplot di framecount vediamo degli outliers in corrispondenza dello 0."
   ]
  },
  {
   "cell_type": "markdown",
   "id": "d466dc8f-0304-4d43-900e-662ee673bc80",
   "metadata": {},
   "source": [
    "# Scatter"
   ]
  },
  {
   "cell_type": "code",
   "execution_count": null,
   "id": "8c28951c-532d-4d14-959b-331a37fbec09",
   "metadata": {},
   "outputs": [],
   "source": [
    "variables = [(df['mfcc_std'], df['std']), \n",
    "             (df['sc_std'], df['mfcc_mean']), \n",
    "             (df['stft_skew'], df['skew']), \n",
    "             (df['std'], df['max']),\n",
    "             (df['mfcc_std'], df['min']),\n",
    "             (df['mfcc_min'], df['std']),\n",
    "             (df['mfcc_mean'], df['mfcc_min'])]\n",
    " \n",
    "for var1, var2 in variables:\n",
    "    plt.figure()\n",
    "    sns.scatterplot(x=var1, y=var2)\n",
    "    plt.xlabel(var1.name)\n",
    "    plt.ylabel(var2.name)\n",
    "    plt.title(f\"Scatter Plot of {var1.name} vs {var2.name}\")\n",
    "    plt.show()"
   ]
  },
  {
   "cell_type": "markdown",
   "id": "bcd3d9d8-9a08-4bba-9d1a-7f2e70beb72a",
   "metadata": {},
   "source": [
    "In questi grafici abbiamo raccolto le coppie di variabili che mostrano i vari tipi di relazione che si osservano nella scatter plot matrix.\n",
    "In particolare nel caso di stft_skew e skew dallo scatter plot non emerge nessuna correlazione, mentre con mfcc_std e min sembra esserci una correlazione logaritmica."
   ]
  },
  {
   "cell_type": "code",
   "execution_count": null,
   "id": "67199abc-853c-4a89-b6bb-60a60d8859c0",
   "metadata": {},
   "outputs": [],
   "source": [
    "plt.figure()\n",
    "sns.scatterplot(x=df_copy['mfcc_min'], y=np.log(df['std']))\n",
    "plt.show()"
   ]
  },
  {
   "cell_type": "markdown",
   "id": "ec2389c4-8a0c-445d-bd79-bc29301f3416",
   "metadata": {},
   "source": [
    "# Correlazione"
   ]
  },
  {
   "cell_type": "code",
   "execution_count": null,
   "id": "6766d782-86af-467c-ae39-29b4734cdfb7",
   "metadata": {},
   "outputs": [],
   "source": [
    "#continuous_col_no_nan_const = [col for col in continuous_col if col not in ('intensity', 'stft_max')]"
   ]
  },
  {
   "cell_type": "code",
   "execution_count": null,
   "id": "36c4e51c-dcde-47c5-be9d-0f77e97bc0e7",
   "metadata": {},
   "outputs": [],
   "source": [
    "correlation_matrix = df[continuous_col].drop(['stft_max'], axis=1).corr()\n",
    "plt.figure(figsize = (10,10))\n",
    "sns.heatmap(correlation_matrix, square=True)\n",
    "plt.show()"
   ]
  },
  {
   "cell_type": "code",
   "execution_count": null,
   "id": "1ad15540-c3ba-4ff8-a993-01433017cd3c",
   "metadata": {},
   "outputs": [],
   "source": [
    "#correlation_series = pd.Series({(row, col): correlation_matrix.loc[row, col] for row in correlation_matrix.index for col in correlation_matrix.columns})\n",
    "correlation_series = pd.Series({(correlation_matrix.index[i], correlation_matrix.columns[j]): \n",
    "                                correlation_matrix.loc[correlation_matrix.index[i], correlation_matrix.columns[j]] \n",
    "                                for i in range(len(correlation_matrix)) for j in range(1+i,len(correlation_matrix))})"
   ]
  },
  {
   "cell_type": "markdown",
   "id": "92c24b5a-9b34-4fa8-9d49-59459ad7f98d",
   "metadata": {},
   "source": [
    "Serie Pandas che contiene la correlazione di ogni coppia di variabili continue."
   ]
  },
  {
   "cell_type": "code",
   "execution_count": null,
   "id": "87576270-491e-46e8-a8e3-b2ced3606f53",
   "metadata": {},
   "outputs": [],
   "source": [
    "max_correlation_series = pd.Series({(row, abs(correlation_matrix[row][correlation_matrix[row]<1]).idxmax()): \n",
    "                                    abs(correlation_matrix.loc[row, abs(correlation_matrix[row][correlation_matrix[row]<1]).idxmax()]) \n",
    "                                    for row in correlation_matrix.index})"
   ]
  },
  {
   "cell_type": "markdown",
   "id": "6934cbe8-8462-40d7-a36f-61d27c5abc07",
   "metadata": {},
   "source": [
    "Serie Pandas con solo le coppie più correlate."
   ]
  },
  {
   "cell_type": "code",
   "execution_count": null,
   "id": "671d3c33-206f-4c7a-a6d4-57d395f526cd",
   "metadata": {},
   "outputs": [],
   "source": [
    "correlation_series.sort_values(axis=0, ascending=False, inplace=True, key=abs)"
   ]
  },
  {
   "cell_type": "code",
   "execution_count": null,
   "id": "b646b9ff-97ab-4595-8558-6513990dce7a",
   "metadata": {},
   "outputs": [],
   "source": [
    "correlation_series[correlation_series.abs() > 0.85]"
   ]
  },
  {
   "cell_type": "markdown",
   "id": "0c617cbb-b513-4667-b3f6-e341eeb25dbe",
   "metadata": {},
   "source": [
    "Vista l'elevata correlazione andremo a eliminare le variabili intensity (in questo modo rimuoviamo anche il problema dei missing values di intensity), mfcc_min, min, max, stft_mean"
   ]
  },
  {
   "cell_type": "code",
   "execution_count": null,
   "id": "c14ef8dc-90a7-4ae0-b226-7d62412387ad",
   "metadata": {},
   "outputs": [],
   "source": [
    "max_correlation_series.sort_values(axis=0)"
   ]
  },
  {
   "cell_type": "markdown",
   "id": "04069b3c-e0b3-4f03-ac72-8565a5ad9c7b",
   "metadata": {},
   "source": [
    "Osserviamo che mean ha una correlazione bassissima con tutte le altre variabili."
   ]
  },
  {
   "cell_type": "code",
   "execution_count": null,
   "id": "a8ea1672-17d8-40c7-9691-6b43606b7ad7",
   "metadata": {},
   "outputs": [],
   "source": [
    "continuous_col_to_delete = ['frame_count', 'mean', 'stft_max', 'min', 'max', 'stft_mean', 'mfcc_min', 'intensity']\n",
    "continuous_col_to_keep = [col for col in continuous_col if col not in continuous_col_to_delete]"
   ]
  },
  {
   "cell_type": "code",
   "execution_count": null,
   "id": "2e955ae8-6697-4f8e-a7a4-a8bf205f1ef7",
   "metadata": {},
   "outputs": [],
   "source": [
    "df_reduced = df[continuous_col_to_keep]\n",
    "df_reduced['mean'] = df['mean']\n",
    "scaler = MinMaxScaler()\n",
    "scaled_data = scaler.fit_transform(df_reduced)\n",
    "df_reduced_scaled = pd.DataFrame(scaled_data, columns=df_reduced.columns)"
   ]
  },
  {
   "cell_type": "code",
   "execution_count": null,
   "id": "1ef05d76-c07a-4ace-a1b1-a99bab61e790",
   "metadata": {},
   "outputs": [],
   "source": [
    "df_reduced_scaled.std()"
   ]
  },
  {
   "cell_type": "markdown",
   "id": "ba5b924f-ddc7-4954-9c8d-4375863c900c",
   "metadata": {},
   "source": [
    "Osserviamo che la varianza di mean è significativamente minore rispetto a quella delle altre variabili. In definitiva quindi decidiamo di eliminare la variabile mean."
   ]
  },
  {
   "cell_type": "markdown",
   "id": "2420b7ef-707f-46a5-a16c-f4e286fb51ba",
   "metadata": {
    "editable": true,
    "slideshow": {
     "slide_type": ""
    },
    "tags": []
   },
   "source": [
    "## Missing Values"
   ]
  },
  {
   "cell_type": "code",
   "execution_count": null,
   "id": "b88c2076-0a16-4e3d-b321-a5a395cb332c",
   "metadata": {},
   "outputs": [],
   "source": [
    "null = df.isnull().sum()\n",
    "perc = (null/(len(df)))*100\n",
    "perc"
   ]
  },
  {
   "cell_type": "markdown",
   "id": "ddca628c-1564-49b5-8c88-a7c08a8c0e4f",
   "metadata": {},
   "source": [
    "Calcoliamo la percentuale dei valori mancanti. Mentre \"vocal_channel\" può essere sostituito, la colonna \"actor\" è difficilmente servibile a causa dell'altissimo numero di valori nulli. "
   ]
  },
  {
   "cell_type": "markdown",
   "id": "9e564da9-aad3-4aa7-afbe-d2dd342e7a12",
   "metadata": {},
   "source": [
    "# Missing Values e Outliers"
   ]
  },
  {
   "cell_type": "code",
   "execution_count": null,
   "id": "c81dea74-1f65-462d-8aac-a10a01ac1087",
   "metadata": {},
   "outputs": [],
   "source": [
    "continuous_col_to_delete = ['frame_count', 'mean', 'stft_max', 'min', 'max', 'stft_mean', 'mfcc_min', 'intensity']\n",
    "continuous_col_to_keep = [col for col in continuous_col if col not in continuous_col_to_delete]\n",
    "discrete_col_to_delete = ['modality', 'channels', 'sample_width', 'actor', 'frame_rate', 'frame_width']\n",
    "discrete_col_to_keep = [col for col in discrete_col if col not in discrete_col_to_delete]"
   ]
  },
  {
   "cell_type": "markdown",
   "id": "810ca7ca-609f-4da5-94ba-2ce0373f5208",
   "metadata": {},
   "source": [
    "Rimangono da sistemare gli outliers di sc_min e stft_min (che trattiamo come valori errati e quindi missing values) e i missing values di vocal channel.\n",
    "In praticolare per sc_min e stft_min sfruttiamo la regressione lineare (usando le variabili più correlate rispettivamente con sc_min e stft_min)."
   ]
  },
  {
   "cell_type": "markdown",
   "id": "a553704d-983f-4a78-b786-4c0ab48b1143",
   "metadata": {},
   "source": [
    "Linear Regression su sc_min"
   ]
  },
  {
   "cell_type": "code",
   "execution_count": null,
   "id": "30086226-8e61-4f87-bdb4-751916d46c8a",
   "metadata": {},
   "outputs": [],
   "source": [
    "df_copy.loc[df_copy['sc_min'] != 0, 'sc_min'].hist()"
   ]
  },
  {
   "cell_type": "code",
   "execution_count": null,
   "id": "2c6f93f9-74b8-48c2-a841-49267c27e992",
   "metadata": {},
   "outputs": [],
   "source": [
    "df.loc[df['sc_min'] == 0, 'sc_min'] = np.nan"
   ]
  },
  {
   "cell_type": "code",
   "execution_count": null,
   "id": "4c4da41b-571d-4c2a-9ac3-cab1caed287d",
   "metadata": {},
   "outputs": [],
   "source": [
    "df.loc[df['stft_min'] == 0, 'stft_min'] = np.nan"
   ]
  },
  {
   "cell_type": "code",
   "execution_count": null,
   "id": "4afa14fb-a6b8-45d7-9be1-d1b78fcd961d",
   "metadata": {},
   "outputs": [],
   "source": [
    "df[continuous_col].corr()['sc_min'].sort_values(axis=0, key=abs, ascending=False)"
   ]
  },
  {
   "cell_type": "code",
   "execution_count": null,
   "id": "60f523f2-5fdb-4e4c-a3bb-6a4c6c1cb58c",
   "metadata": {},
   "outputs": [],
   "source": [
    "null_index = np.argwhere(df['sc_min'].isna().values).ravel()\n",
    "not_nullindex = np.argwhere(~df['sc_min'].isna().values).ravel()"
   ]
  },
  {
   "cell_type": "code",
   "execution_count": null,
   "id": "0a82c4e1-6f83-4c51-a7a3-7e2d4e252a57",
   "metadata": {},
   "outputs": [],
   "source": [
    "X = df[['sc_mean', 'mfcc_max', 'zero_crossings_sum', 'mfcc_mean', 'sc_skew', 'sc_max']].values\n",
    "X_train = X[not_nullindex]\n",
    "y_train = df['sc_min'].values[not_nullindex]\n",
    "X_test = X[null_index]"
   ]
  },
  {
   "cell_type": "code",
   "execution_count": null,
   "id": "c30ffc27-cd1a-4aa5-892d-f20a7cdca611",
   "metadata": {},
   "outputs": [],
   "source": [
    "reg = LinearRegression()\n",
    "reg.fit(X_train,y_train)"
   ]
  },
  {
   "cell_type": "code",
   "execution_count": null,
   "id": "7cdb07ef-e37e-47a2-9596-257a251d2da0",
   "metadata": {},
   "outputs": [],
   "source": [
    "sc_min_pred = reg.predict(X_test)"
   ]
  },
  {
   "cell_type": "code",
   "execution_count": null,
   "id": "7a0db866-7e47-4533-8b39-0ab55a7dbca8",
   "metadata": {},
   "outputs": [],
   "source": [
    "df.loc[null_index, 'sc_min'] = sc_min_pred"
   ]
  },
  {
   "cell_type": "code",
   "execution_count": null,
   "id": "ce921d1b-077e-45ce-9556-0846dd67f0ee",
   "metadata": {},
   "outputs": [],
   "source": [
    "df['sc_min'].hist()"
   ]
  },
  {
   "cell_type": "markdown",
   "id": "facc3895-c1a4-4d51-9d21-5b91ff720bef",
   "metadata": {},
   "source": [
    "la distribuzione è rimasta abbastanza simile a quella originaria e quindi consideriamo il risultato soddisfacente."
   ]
  },
  {
   "cell_type": "markdown",
   "id": "9e972f33-c152-401e-9571-fcc8e31edd7f",
   "metadata": {},
   "source": [
    "Linear Regression su stft_min"
   ]
  },
  {
   "cell_type": "code",
   "execution_count": null,
   "id": "d0be99e3-213f-4ad6-90f0-827127fbbf8b",
   "metadata": {},
   "outputs": [],
   "source": [
    "df_copy.loc[df_copy['stft_min'] != 0, 'stft_min'].hist()"
   ]
  },
  {
   "cell_type": "code",
   "execution_count": null,
   "id": "ee67a118-d97a-436f-ae0d-cfe64b2d917f",
   "metadata": {},
   "outputs": [],
   "source": [
    "df[continuous_col].corr()['stft_min'].sort_values(axis=0, key=abs, ascending=False)"
   ]
  },
  {
   "cell_type": "code",
   "execution_count": null,
   "id": "9783289a-5c05-4e58-9f60-99d92a84d8fe",
   "metadata": {},
   "outputs": [],
   "source": [
    "null_index2 = np.argwhere(df['stft_min'].isna().values).ravel()\n",
    "not_nullindex2 = np.argwhere(~df['stft_min'].isna().values).ravel()"
   ]
  },
  {
   "cell_type": "code",
   "execution_count": null,
   "id": "94a86219-c39d-4844-a25e-adde6d6667a9",
   "metadata": {},
   "outputs": [],
   "source": [
    "X2 = df[['stft_std', 'stft_mean','stft_skew']].values\n",
    "X_train2 = X2[not_nullindex2]\n",
    "y_train2 = df['stft_min'].values[not_nullindex2]\n",
    "X_test2 = X2[null_index2]"
   ]
  },
  {
   "cell_type": "code",
   "execution_count": null,
   "id": "f4235f0c-c0a0-49fc-b11e-7090b1e66234",
   "metadata": {},
   "outputs": [],
   "source": [
    "reg2 = LinearRegression()\n",
    "reg2.fit(X_train2,y_train2)"
   ]
  },
  {
   "cell_type": "code",
   "execution_count": null,
   "id": "fe3ea7eb-55cb-4443-9706-4de3908dbd25",
   "metadata": {},
   "outputs": [],
   "source": [
    "stft_min_pred = reg2.predict(X_test2)"
   ]
  },
  {
   "cell_type": "code",
   "execution_count": null,
   "id": "60f2b42b-eb6f-4a48-ac7a-26f712ace485",
   "metadata": {},
   "outputs": [],
   "source": [
    "df.loc[null_index2, 'stft_min'] = stft_min_pred"
   ]
  },
  {
   "cell_type": "code",
   "execution_count": null,
   "id": "3fe074cf-aae3-48e3-a8fd-00f3cb74dad9",
   "metadata": {},
   "outputs": [],
   "source": [
    "df['stft_min'].hist()"
   ]
  },
  {
   "cell_type": "markdown",
   "id": "92b59fb6-2003-4fde-b673-bf710d38cfe9",
   "metadata": {},
   "source": [
    "La regressione ha aggiunto qualche valore negativo, ma la distribuzione è rimasta abbastanza simile a quella originaria e quindi consideriamo il risultato soddisfacente."
   ]
  },
  {
   "cell_type": "markdown",
   "id": "c57ff0ae-0a5a-4207-860c-bf48b418921d",
   "metadata": {},
   "source": [
    "In ultima istanza si sostituiscono i valori mancanti di vocal_channel con la loro moda. "
   ]
  },
  {
   "cell_type": "code",
   "execution_count": null,
   "id": "4b02b779-291c-4edb-be41-a95e595d5582",
   "metadata": {},
   "outputs": [],
   "source": [
    "df_copy['vocal_channel'].value_counts()/len(df_copy)"
   ]
  },
  {
   "cell_type": "code",
   "execution_count": null,
   "id": "6544cffb-10d3-4bcd-ad9b-149d41ddce95",
   "metadata": {},
   "outputs": [],
   "source": [
    "df['vocal_channel'] = df['vocal_channel'].fillna(df['vocal_channel'].mode()[0])"
   ]
  },
  {
   "cell_type": "code",
   "execution_count": null,
   "id": "9a80058f-575b-432c-ad74-c80cf9d3781b",
   "metadata": {},
   "outputs": [],
   "source": [
    "df['vocal_channel'].value_counts()/len(df)"
   ]
  },
  {
   "cell_type": "markdown",
   "id": "c36017b0-409d-40ea-baee-36ab798d120d",
   "metadata": {},
   "source": [
    "# Trasformazioni delle variabili"
   ]
  },
  {
   "cell_type": "code",
   "execution_count": null,
   "id": "f1104142-c855-4bd4-b89c-b53b1ee761e2",
   "metadata": {},
   "outputs": [],
   "source": [
    "qt = QuantileTransformer(output_distribution='normal')"
   ]
  },
  {
   "cell_type": "markdown",
   "id": "d996b829-5080-4e4b-8717-574873b61f5c",
   "metadata": {},
   "source": [
    "Quantile tranformer sfrutta la funzione di ripartizione (approssimata) di una variabile per trasformare la variabile in modo che la sua distribuzione diventi normale."
   ]
  },
  {
   "cell_type": "code",
   "execution_count": null,
   "id": "5aee5251-a504-441f-bc28-5b18c2681025",
   "metadata": {},
   "outputs": [],
   "source": [
    "df_norm = df[continuous_col_to_keep]"
   ]
  },
  {
   "cell_type": "code",
   "execution_count": null,
   "id": "09adf32a-b71b-4592-916b-0494d00b9842",
   "metadata": {},
   "outputs": [],
   "source": [
    "for column in df_norm.columns:\n",
    "    df_norm.loc[:, column] = qt.fit_transform(df[[column]])"
   ]
  },
  {
   "cell_type": "code",
   "execution_count": null,
   "id": "69cb2da2-08cd-461c-91f9-1e99520e031e",
   "metadata": {},
   "outputs": [],
   "source": [
    "# Visualize distribution of multiple columns\n",
    "plt.figure(figsize=(30, 40), dpi=500)\n",
    "num_columns = len(df_norm.columns)\n",
    "\n",
    "for i, column in enumerate(df_norm.columns):\n",
    "    plt.subplot(num_columns, 2, i + 1)\n",
    "    sns.histplot(df[column], kde=True)\n",
    "    plt.title(f'Before Transformation - {column}')\n",
    "\n",
    "    plt.subplot(num_columns, 2, i + num_columns + 1)\n",
    "    sns.histplot(df_norm[column], kde=True)\n",
    "    plt.title(f'After Transformation - {column}')\n",
    "\n",
    "plt.tight_layout()\n",
    "plt.show()"
   ]
  },
  {
   "cell_type": "markdown",
   "id": "f6a02a19-9266-43fa-989a-b094778ecb15",
   "metadata": {},
   "source": [
    "## Commento finale\n",
    "\n",
    "Siamo riusciti a preparare i dati per i successivi lavori di clustering e classificazione. Abbiamo creato un file csv appositamente modificato in modo tale da dover apporre solo data preparation apposite per la tipologia di algoritmo che andremo ad utilizzare. "
   ]
  },
  {
   "cell_type": "code",
   "execution_count": null,
   "id": "7f780bde-e542-4b34-bbbf-d383a30f1f38",
   "metadata": {},
   "outputs": [],
   "source": []
  }
 ],
 "metadata": {
  "kernelspec": {
   "display_name": "env_master",
   "language": "python",
   "name": "python3"
  },
  "language_info": {
   "codemirror_mode": {
    "name": "ipython",
    "version": 3
   },
   "file_extension": ".py",
   "mimetype": "text/x-python",
   "name": "python",
   "nbconvert_exporter": "python",
   "pygments_lexer": "ipython3",
   "version": "3.11.6"
  }
 },
 "nbformat": 4,
 "nbformat_minor": 5
}
